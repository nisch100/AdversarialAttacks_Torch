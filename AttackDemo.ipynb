{
  "nbformat": 4,
  "nbformat_minor": 0,
  "metadata": {
    "colab": {
      "name": "AttackDemo.ipynb",
      "provenance": []
    },
    "kernelspec": {
      "name": "python3",
      "display_name": "Python 3"
    },
    "language_info": {
      "name": "python"
    },
    "accelerator": "GPU"
  },
  "cells": [
    {
      "cell_type": "code",
      "execution_count": 1,
      "metadata": {
        "colab": {
          "base_uri": "https://localhost:8080/"
        },
        "id": "IEuMGJOnBghg",
        "outputId": "5002202b-9fc2-4467-8aae-5776de6c8232"
      },
      "outputs": [
        {
          "output_type": "stream",
          "name": "stdout",
          "text": [
            "Mounted at /content/drive\n",
            "drive  sample_data\n",
            "/content/drive/MyDrive/adversarial-attacks-pytorch\n"
          ]
        }
      ],
      "source": [
        "from google.colab import drive\n",
        "drive.mount('/content/drive',force_remount=True)\n",
        "!ls\n",
        "%cd  drive/MyDrive/adversarial-attacks-pytorch/"
      ]
    },
    {
      "cell_type": "code",
      "source": [
        "import os\n",
        "import sys\n",
        "import numpy as np\n",
        "import matplotlib.pyplot as plt\n",
        "%matplotlib inline\n",
        "\n",
        "import torch\n",
        "import torch.nn as nn\n",
        "import torch.optim as optim\n",
        "\n",
        "import torchvision.utils\n",
        "from torchvision import models\n",
        "import torchvision.datasets as dsets\n",
        "import torchvision.transforms as transforms\n",
        "\n",
        "import torchattacks\n",
        "from torchattacks import PGD, FGSM\n",
        "from demos.models import CNN"
      ],
      "metadata": {
        "id": "hxvG4kBTCZ3r"
      },
      "execution_count": 2,
      "outputs": []
    },
    {
      "cell_type": "code",
      "source": [
        "print(\"PyTorch\", torch.__version__)\n",
        "print(\"Torchvision\", torchvision.__version__)\n",
        "print(\"Torchattacks\", torchattacks.__version__)\n",
        "print(\"Numpy\", np.__version__)"
      ],
      "metadata": {
        "colab": {
          "base_uri": "https://localhost:8080/"
        },
        "id": "FIVKbNSuC5TH",
        "outputId": "73c56d95-9208-41a3-fca5-c9eb99a58f23"
      },
      "execution_count": 3,
      "outputs": [
        {
          "output_type": "stream",
          "name": "stdout",
          "text": [
            "PyTorch 1.11.0+cu113\n",
            "Torchvision 0.12.0+cu113\n",
            "Torchattacks 3.2.6\n",
            "Numpy 1.21.6\n"
          ]
        }
      ]
    },
    {
      "cell_type": "code",
      "source": [
        "class AddGaussianNoise(object):\n",
        "    def __init__(self, mean=0., std=1.):\n",
        "        self.std = std\n",
        "        self.mean = mean\n",
        "        \n",
        "    def __call__(self, tensor):\n",
        "        return tensor + torch.randn(tensor.size()) * self.std + self.mean\n",
        "    \n",
        "    def __repr__(self):\n",
        "        return self.__class__.__name__ + '(mean={0}, std={1})'.format(self.mean, self.std)"
      ],
      "metadata": {
        "id": "XmP6goS9UuQE"
      },
      "execution_count": 4,
      "outputs": []
    },
    {
      "cell_type": "code",
      "source": [
        "mnist_train = dsets.MNIST(root='./data/',\n",
        "                          train=True,\n",
        "                          transform=transforms.Compose([transforms.ToTensor(),transforms.Normalize((0.1307,), (0.3081,)),\n",
        "    AddGaussianNoise(0., 1.)]),\n",
        "                          download=True)\n",
        "\n",
        "mnist_test = dsets.MNIST(root='./data/',\n",
        "                         train=False,\n",
        "                         transform=transforms.Compose([transforms.ToTensor(),transforms.Normalize((0.1307,), (0.3081,))]),\n",
        "                         download=True)"
      ],
      "metadata": {
        "id": "2P4D-58OC_go"
      },
      "execution_count": 5,
      "outputs": []
    },
    {
      "cell_type": "code",
      "source": [
        "batch_size = 128\n",
        "\n",
        "train_loader  = torch.utils.data.DataLoader(dataset=mnist_train,\n",
        "                                           batch_size=batch_size,\n",
        "                                           shuffle=False,)\n",
        "\n",
        "test_loader = torch.utils.data.DataLoader(dataset=mnist_test,\n",
        "                                         batch_size=batch_size,\n",
        "                                         shuffle=False)"
      ],
      "metadata": {
        "id": "VrMD6imgDCFL"
      },
      "execution_count": 6,
      "outputs": []
    },
    {
      "cell_type": "code",
      "source": [
        "\n",
        "model = CNN().cuda()\n",
        "loss = nn.CrossEntropyLoss()\n",
        "optimizer = optim.Adam(model.parameters(), lr=0.001)"
      ],
      "metadata": {
        "id": "qDatZED9DEs1"
      },
      "execution_count": 7,
      "outputs": []
    },
    {
      "cell_type": "code",
      "source": [
        "atk = PGD(model, eps=0.3, alpha=0.1, steps=7)"
      ],
      "metadata": {
        "id": "vrxQtV-6DKe0"
      },
      "execution_count": 8,
      "outputs": []
    },
    {
      "cell_type": "code",
      "source": [
        "num_epochs  =5\n",
        "for epoch in range(num_epochs):\n",
        "\n",
        "    total_batch = len(mnist_train) // batch_size\n",
        "    ct = 0\n",
        "    for i, (batch_images, batch_labels) in enumerate(train_loader):\n",
        "        #X = atk(batch_images, batch_labels).cuda()\n",
        "        X = batch_images.cuda()\n",
        "        Y = batch_labels.cuda()\n",
        "\n",
        "        pre = model(X)\n",
        "        #print(pre.shape,Y.shape)\n",
        "        cost = loss(pre, Y)\n",
        "        ct += (torch.max(pre.data, 1)[-1] == Y).sum()\n",
        "        optimizer.zero_grad()\n",
        "        cost.backward()\n",
        "        optimizer.step()\n",
        "\n",
        "        if (i+1) % 100 == 0:\n",
        "            print('Epoch [%d/%d], lter [%d/%d], Loss: %.4f'\n",
        "                 %(epoch+1, num_epochs, i+1, total_batch, cost.item()))\n",
        "    print(f\"Accuracy at epoch {epoch} is {ct/len(mnist_train)}\")\n"
      ],
      "metadata": {
        "colab": {
          "base_uri": "https://localhost:8080/"
        },
        "id": "IeIwAtUSDp3M",
        "outputId": "2797f6c0-e442-4b0e-dcbf-5cae9420a973"
      },
      "execution_count": 16,
      "outputs": [
        {
          "output_type": "stream",
          "name": "stdout",
          "text": [
            "Epoch [1/5], lter [100/468], Loss: 0.0299\n",
            "Epoch [1/5], lter [200/468], Loss: 0.0369\n",
            "Epoch [1/5], lter [300/468], Loss: 0.0322\n",
            "Epoch [1/5], lter [400/468], Loss: 0.0039\n",
            "Accuracy at epoch 0 is 0.9891499876976013\n",
            "Epoch [2/5], lter [100/468], Loss: 0.0214\n",
            "Epoch [2/5], lter [200/468], Loss: 0.0432\n",
            "Epoch [2/5], lter [300/468], Loss: 0.0829\n",
            "Epoch [2/5], lter [400/468], Loss: 0.0132\n",
            "Accuracy at epoch 1 is 0.9902333617210388\n",
            "Epoch [3/5], lter [100/468], Loss: 0.0439\n",
            "Epoch [3/5], lter [200/468], Loss: 0.0622\n",
            "Epoch [3/5], lter [300/468], Loss: 0.0209\n",
            "Epoch [3/5], lter [400/468], Loss: 0.0031\n",
            "Accuracy at epoch 2 is 0.9914000034332275\n",
            "Epoch [4/5], lter [100/468], Loss: 0.0224\n",
            "Epoch [4/5], lter [200/468], Loss: 0.0473\n",
            "Epoch [4/5], lter [300/468], Loss: 0.1338\n",
            "Epoch [4/5], lter [400/468], Loss: 0.0018\n",
            "Accuracy at epoch 3 is 0.9905000329017639\n",
            "Epoch [5/5], lter [100/468], Loss: 0.0069\n",
            "Epoch [5/5], lter [200/468], Loss: 0.0262\n",
            "Epoch [5/5], lter [300/468], Loss: 0.0179\n",
            "Epoch [5/5], lter [400/468], Loss: 0.0168\n",
            "Accuracy at epoch 4 is 0.9916166663169861\n"
          ]
        }
      ]
    },
    {
      "cell_type": "code",
      "source": [
        "model.eval()\n",
        "\n",
        "correct = 0\n",
        "total = 0\n",
        "\n",
        "for images, labels in test_loader:\n",
        "    \n",
        "    images = images.cuda()\n",
        "    outputs = model(images)\n",
        "    \n",
        "    _, predicted = torch.max(outputs.data, 1)\n",
        "    \n",
        "    total += labels.size(0)\n",
        "    correct += (predicted == labels.cuda()).sum()\n",
        "    \n",
        "print('Standard accuracy: %.2f %%' % (100 * float(correct) / total))"
      ],
      "metadata": {
        "colab": {
          "base_uri": "https://localhost:8080/"
        },
        "id": "HqEZURRnDu3R",
        "outputId": "1ef745ea-5fd0-483a-d725-7d502ec49de1"
      },
      "execution_count": 17,
      "outputs": [
        {
          "output_type": "stream",
          "name": "stdout",
          "text": [
            "Standard accuracy: 99.11 %\n"
          ]
        }
      ]
    },
    {
      "cell_type": "code",
      "source": [
        "from torchattacks import *\n",
        "model.eval()\n",
        "\n",
        "correct = 0\n",
        "total = 0\n",
        "\n",
        "atk = FGSM(model, eps=0.3)\n",
        "atk1 = torchattacks.FGSM(model, eps=3)\n",
        "atk2 = torchattacks.PGD(model, eps=8/255, alpha=2/200, steps=40, random_start=True)\n",
        "atk = torchattacks.MultiAttack([atk1, atk2])\n",
        "\n",
        "atks = [\n",
        "    torchattacks.FGSM(model, eps=8/255),\n",
        "    torchattacks.BIM(model, eps=8/255, alpha=2/255, steps=100),\n",
        "    torchattacks.RFGSM(model, eps=8/255, alpha=2/255, steps=100),\n",
        "    torchattacks.CW(model, c=1, lr=0.01, steps=100, kappa=0),\n",
        "    torchattacks.PGD(model, eps=8/255, alpha=2/225, steps=100, random_start=True),\n",
        "    torchattacks.PGDL2(model, eps=1, alpha=0.2, steps=100),\n",
        "    torchattacks.EOTPGD(model, eps=8/255, alpha=2/255, steps=100, eot_iter=2),\n",
        "    torchattacks.FFGSM(model, eps=8/255, alpha=10/255),\n",
        "    TPGD(model, eps=8/255, alpha=2/255, steps=100),\n",
        "    MIFGSM(model, eps=8/255, alpha=2/255, steps=100, decay=0.1),\n",
        "    VANILA(model),\n",
        "    GN(model, std=0.1),\n",
        "    APGD(model, eps=8/255, steps=100, eot_iter=1, n_restarts=1, loss='ce'),\n",
        "    APGD(model, eps=8/255, steps=100, eot_iter=1, n_restarts=1, loss='dlr'),\n",
        "    APGDT(model, eps=8/255, steps=100, eot_iter=1, n_restarts=1),\n",
        "    FAB(model, eps=8/255, steps=100, n_classes=10, n_restarts=1, targeted=False),\n",
        "    FAB(model, eps=8/255, steps=100, n_classes=10, n_restarts=1, targeted=True),\n",
        "    Square(model, eps=8/255, n_queries=5000, n_restarts=1, loss='ce'),\n",
        "    AutoAttack(model, eps=8/255, n_classes=10, version='standard'),\n",
        "    OnePixel(model, pixels=5, inf_batch=50),\n",
        "    DeepFool(model, steps=100),\n",
        "    DIFGSM(model, eps=8/255, alpha=2/255, steps=100, diversity_prob=0.5, resize_rate=0.9)\n",
        "]\n",
        "\n",
        "\n",
        "#atk = torchattacks.MultiAttack(atks)\n",
        "\n",
        "for images, labels in test_loader:\n",
        "    \n",
        "    images = atk(images, labels).cuda()\n",
        "    outputs = model(images)\n",
        "    \n",
        "    _, predicted = torch.max(outputs.data, 1)\n",
        "    \n",
        "    total += labels.size(0)\n",
        "    correct += (predicted == labels.cuda()).sum()\n",
        "    \n",
        "print('Robust accuracy: %.2f %%' % (100 * float(correct) / total))"
      ],
      "metadata": {
        "colab": {
          "base_uri": "https://localhost:8080/"
        },
        "id": "iumr9XykEKPz",
        "outputId": "491de5c0-9a66-4f5a-872e-113a7ce9f1db"
      },
      "execution_count": 18,
      "outputs": [
        {
          "output_type": "stream",
          "name": "stdout",
          "text": [
            "Robust accuracy: 21.26 %\n"
          ]
        }
      ]
    },
    {
      "cell_type": "code",
      "source": [
        ""
      ],
      "metadata": {
        "id": "i68KYY2dYAGo"
      },
      "execution_count": 11,
      "outputs": []
    }
  ]
}